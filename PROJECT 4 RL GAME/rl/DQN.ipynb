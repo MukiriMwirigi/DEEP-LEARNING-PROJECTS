{
 "cells": [
  {
   "cell_type": "code",
   "execution_count": 1,
   "id": "ab4b9dac",
   "metadata": {},
   "outputs": [],
   "source": [
    "\"\"\"Tabular QL agent\"\"\"\n",
    "import torch\n",
    "import torch.nn as nn\n",
    "import torch.optim as optim\n",
    "import torch.nn.functional as F\n",
    "import numpy as np\n",
    "import matplotlib.pyplot as plt\n",
    "from tqdm import tqdm\n",
    "import framework\n",
    "import utils"
   ]
  },
  {
   "cell_type": "code",
   "execution_count": 2,
   "id": "e1c041d1",
   "metadata": {},
   "outputs": [],
   "source": [
    "DEBUG = False"
   ]
  },
  {
   "cell_type": "code",
   "execution_count": 3,
   "id": "1e893239",
   "metadata": {},
   "outputs": [],
   "source": [
    "GAMMA = 0.5  # discounted factor\n",
    "TRAINING_EP = 0.5  # epsilon-greedy parameter for training\n",
    "TESTING_EP = 0.05  # epsilon-greedy parameter for testing\n",
    "NUM_RUNS = 10\n",
    "NUM_EPOCHS = 300\n",
    "NUM_EPIS_TRAIN = 25  # number of episodes for training at each epoch\n",
    "NUM_EPIS_TEST = 50  # number of episodes for testing\n",
    "ALPHA = 0.1  # learning rate for training"
   ]
  },
  {
   "cell_type": "code",
   "execution_count": 4,
   "id": "1b39b8fd",
   "metadata": {},
   "outputs": [],
   "source": [
    "ACTIONS = framework.get_actions()\n",
    "OBJECTS = framework.get_objects()\n",
    "NUM_ACTIONS = len(ACTIONS)\n",
    "NUM_OBJECTS = len(OBJECTS)\n",
    "\n",
    "model = None\n",
    "optimizer = None"
   ]
  },
  {
   "cell_type": "code",
   "execution_count": 5,
   "id": "77f46bd4",
   "metadata": {},
   "outputs": [],
   "source": [
    "def epsilon_greedy(state_vector, epsilon):\n",
    "    \"\"\"Returns an action selected by an epsilon-greedy exploration policy\n",
    "\n",
    "    Args:\n",
    "        state_vector (torch.FloatTensor): extracted vector representation\n",
    "        theta (np.ndarray): current weight matrix\n",
    "        epsilon (float): the probability of choosing a random command\n",
    "\n",
    "    Returns:\n",
    "        (int, int): the indices describing the action/object to take\n",
    "    \"\"\"\n",
    "    # Toss a coin to decide what to do\n",
    "    if np.random.binomial(1, epsilon):\n",
    "        # Randomly choose action and object\n",
    "        action_index, object_index = np.random.randint(NUM_ACTIONS, size=1), \\\n",
    "                                    np.random.randint(NUM_OBJECTS, size=1)\n",
    "    else:\n",
    "        # Choose the best action and object\n",
    "        act_arr, obj_arr = model(state_vector)\n",
    "        action_index, object_index = torch.argmax(act_arr), torch.argmax(obj_arr)\n",
    "        \n",
    "    return (int(action_index), int(object_index))\n",
    "\n",
    "    # TODO Your code here\n",
    "    #action_index, object_index = None, None\n",
    "    #return (action_index, object_index)\n"
   ]
  },
  {
   "cell_type": "code",
   "execution_count": 6,
   "id": "f2e73369",
   "metadata": {},
   "outputs": [],
   "source": [
    "class DQN(nn.Module):\n",
    "    \"\"\"A simple deep Q network implementation.\n",
    "    Computes Q values for each (action, object) tuple given an input state vector\n",
    "    \"\"\"\n",
    "\n",
    "    def __init__(self, state_dim, action_dim, object_dim, hidden_size=100):\n",
    "        super(DQN, self).__init__()\n",
    "        self.state_encoder = nn.Linear(state_dim, hidden_size)\n",
    "        self.state2action = nn.Linear(hidden_size, action_dim)\n",
    "        self.state2object = nn.Linear(hidden_size, object_dim)\n",
    "\n",
    "    def forward(self, x):\n",
    "        state = F.relu(self.state_encoder(x))\n",
    "        return self.state2action(state), self.state2object(state)\n",
    "\n",
    "\n",
    "# pragma: coderesponse template\n"
   ]
  },
  {
   "cell_type": "code",
   "execution_count": 7,
   "id": "244b8c07",
   "metadata": {},
   "outputs": [],
   "source": [
    "def deep_q_learning(current_state_vector, action_index, object_index, reward,\n",
    "                    next_state_vector, terminal):\n",
    "    \"\"\"Updates the weights of the DQN for a given transition\n",
    "\n",
    "    Args:\n",
    "        current_state_vector (torch.FloatTensor): vector representation of current state\n",
    "        action_index (int): index of the current action\n",
    "        object_index (int): index of the current object\n",
    "        reward (float): the immediate reward the agent recieves from playing current command\n",
    "        next_state_vector (torch.FloatTensor): vector representation of next state\n",
    "        terminal (bool): True if this epsiode is over\n",
    "\n",
    "    Returns:\n",
    "        None\n",
    "    \"\"\"\n",
    "    with torch.no_grad():\n",
    "        q_values_action_next, q_values_object_next = model(next_state_vector)\n",
    "    maxq_next = 1 / 2 * (q_values_action_next.max()\n",
    "                         + q_values_object_next.max())\n",
    "\n",
    "    q_value_cur_state = model(current_state_vector)\n",
    "    Q_val_cur = 1/2 * (q_value_cur_state[0][action_index] + \\\n",
    "                    q_value_cur_state[1][object_index]) # Current Q value \n",
    "\n",
    "    maxQ = 0.0 if terminal else maxq_next\n",
    "    y = reward + GAMMA*maxQ # Target\n",
    "\n",
    "    loss = 1/2 * (y - Q_val_cur)**2\n",
    "\n",
    "    optimizer.zero_grad()\n",
    "    loss.backward()\n",
    "    optimizer.step()\n",
    "\n",
    "    #loss = None\n",
    "\n",
    "# pragma: coderesponse end\n"
   ]
  },
  {
   "cell_type": "code",
   "execution_count": 8,
   "id": "73d44885",
   "metadata": {},
   "outputs": [],
   "source": [
    "def run_episode(for_training):\n",
    "    \"\"\"\n",
    "        Runs one episode\n",
    "        If for training, update Q function\n",
    "        If for testing, computes and return cumulative discounted reward\n",
    "    \"\"\"\n",
    "    epsilon = TRAINING_EP if for_training else TESTING_EP\n",
    "    #epi_reward = None\n",
    "    epi_reward = 0.0\n",
    "    \n",
    "    (current_room_desc, current_quest_desc, terminal) = framework.newGame()\n",
    "    \n",
    "    while not terminal:\n",
    "        # Choose next action and execute\n",
    "        current_state = current_room_desc + current_quest_desc\n",
    "        current_state_vector = torch.FloatTensor(\n",
    "            utils.extract_bow_feature_vector(current_state, dictionary))\n",
    "\n",
    "        next_action_index, next_object_index = epsilon_greedy(current_state_vector,\n",
    "                                                              epsilon) # Get next action, object\n",
    "        \n",
    "        next_room_desc, next_quest_desc, reward, terminal = framework.step_game(\n",
    "                                                            current_room_desc,\n",
    "                                                            current_quest_desc,\n",
    "                                                            next_action_index,\n",
    "                                                            next_object_index) # Take a step\n",
    "\n",
    "        next_state = next_room_desc + next_quest_desc   # Build next state tensor\n",
    "        next_state_vector = torch.FloatTensor(\n",
    "                                utils.extract_bow_feature_vector(next_state, \n",
    "                                                                 dictionary)) \n",
    "\n",
    "        if for_training:\n",
    "            # update Q-function.\n",
    "            deep_q_learning(current_state_vector, next_action_index, \n",
    "                            next_object_index, reward, next_state_vector, terminal) # Update weights\n",
    "\n",
    "        if not for_training:\n",
    "            # update reward\n",
    "            epi_reward += (GAMMA**(framework.STEP_COUNT - 1))*reward\n",
    "            \n",
    "        # prepare next step\n",
    "        current_room_desc, current_quest_desc = next_room_desc, next_quest_desc\n",
    "\n",
    "    \n",
    "    if not for_training:\n",
    "        return epi_reward\n"
   ]
  },
  {
   "cell_type": "code",
   "execution_count": 9,
   "id": "5c456169",
   "metadata": {},
   "outputs": [],
   "source": [
    "def run_epoch():\n",
    "    \"\"\"Runs one epoch and returns reward averaged over test episodes\"\"\"\n",
    "    rewards = []\n",
    "\n",
    "    for _ in range(NUM_EPIS_TRAIN):\n",
    "        run_episode(for_training=True)\n",
    "\n",
    "    for _ in range(NUM_EPIS_TEST):\n",
    "        rewards.append(run_episode(for_training=False))\n",
    "\n",
    "    return np.mean(np.array(rewards))\n"
   ]
  },
  {
   "cell_type": "code",
   "execution_count": 10,
   "id": "2a36fa72",
   "metadata": {},
   "outputs": [],
   "source": [
    "def run():\n",
    "    \"\"\"Returns array of test reward per epoch for one run\"\"\"\n",
    "    global model\n",
    "    global optimizer\n",
    "    model = DQN(state_dim, NUM_ACTIONS, NUM_OBJECTS)\n",
    "    optimizer = optim.SGD(model.parameters(), lr=ALPHA)\n",
    "\n",
    "    single_run_epoch_rewards_test = []\n",
    "    pbar = tqdm(range(NUM_EPOCHS), ncols=80)\n",
    "    for _ in pbar:\n",
    "        single_run_epoch_rewards_test.append(run_epoch())\n",
    "        pbar.set_description(\n",
    "            \"Avg reward: {:0.6f} | Ewma reward: {:0.6f}\".format(\n",
    "                np.mean(single_run_epoch_rewards_test),\n",
    "                utils.ewma(single_run_epoch_rewards_test)))\n",
    "    return single_run_epoch_rewards_test"
   ]
  },
  {
   "cell_type": "code",
   "execution_count": 11,
   "id": "5142c186",
   "metadata": {},
   "outputs": [
    {
     "name": "stderr",
     "output_type": "stream",
     "text": [
      "Avg reward: 0.466400 | Ewma reward: 0.529096: 100%|█| 300/300 [00:40<00:00,  7.4\n",
      "Avg reward: 0.475949 | Ewma reward: 0.522777: 100%|█| 300/300 [00:37<00:00,  7.9\n",
      "Avg reward: 0.484909 | Ewma reward: 0.528231: 100%|█| 300/300 [00:36<00:00,  8.2\n",
      "Avg reward: 0.482485 | Ewma reward: 0.515092: 100%|█| 300/300 [00:38<00:00,  7.8\n",
      "Avg reward: 0.477768 | Ewma reward: 0.529918: 100%|█| 300/300 [00:39<00:00,  7.6\n",
      "Avg reward: 0.462545 | Ewma reward: 0.522824: 100%|█| 300/300 [00:43<00:00,  6.9\n",
      "Avg reward: 0.458581 | Ewma reward: 0.508529: 100%|█| 300/300 [00:42<00:00,  7.0\n",
      "Avg reward: 0.472592 | Ewma reward: 0.524382: 100%|█| 300/300 [00:41<00:00,  7.2\n",
      "Avg reward: 0.483233 | Ewma reward: 0.517792: 100%|█| 300/300 [00:40<00:00,  7.4\n",
      "Avg reward: 0.458820 | Ewma reward: 0.544088: 100%|█| 300/300 [00:43<00:00,  6.8\n"
     ]
    },
    {
     "data": {
      "image/png": "[encoded data removed]",
      "text/plain": [
       "<Figure size 432x288 with 1 Axes>"
      ]
     },
     "metadata": {
      "needs_background": "light"
     },
     "output_type": "display_data"
    }
   ],
   "source": [
    "if __name__ == '__main__':\n",
    "    state_texts = utils.load_data('game.tsv')\n",
    "    dictionary = utils.bag_of_words(state_texts)\n",
    "    state_dim = len(dictionary)\n",
    "\n",
    "    # set up the game\n",
    "    framework.load_game_data()\n",
    "\n",
    "    epoch_rewards_test = []  # shape NUM_RUNS * NUM_EPOCHS\n",
    "\n",
    "    for _ in range(NUM_RUNS):\n",
    "        epoch_rewards_test.append(run())\n",
    "\n",
    "    epoch_rewards_test = np.array(epoch_rewards_test)\n",
    "\n",
    "    x = np.arange(NUM_EPOCHS)\n",
    "    fig, axis = plt.subplots()\n",
    "    axis.plot(x, np.mean(epoch_rewards_test,\n",
    "                         axis=0))  # plot reward per epoch averaged per run\n",
    "    axis.set_xlabel('Epochs')\n",
    "    axis.set_ylabel('reward')\n",
    "    axis.set_title(('Linear: nRuns=%d, Epilon=%.2f, Epi=%d, alpha=%.4f' %\n",
    "                    (NUM_RUNS, TRAINING_EP, NUM_EPIS_TRAIN, ALPHA)))\n",
    "    plt.show()"
   ]
  },
  {
   "cell_type": "code",
   "execution_count": null,
   "id": "668a6f2e",
   "metadata": {},
   "outputs": [],
   "source": []
  }
 ],
 "metadata": {
  "kernelspec": {
   "display_name": "Python 3 (ipykernel)",
   "language": "python",
   "name": "python3"
  },
  "language_info": {
   "codemirror_mode": {
    "name": "ipython",
    "version": 3
   },
   "file_extension": ".py",
   "mimetype": "text/x-python",
   "name": "python",
   "nbconvert_exporter": "python",
   "pygments_lexer": "ipython3",
   "version": "3.8.12"
  }
 },
 "nbformat": 4,
 "nbformat_minor": 5
}
