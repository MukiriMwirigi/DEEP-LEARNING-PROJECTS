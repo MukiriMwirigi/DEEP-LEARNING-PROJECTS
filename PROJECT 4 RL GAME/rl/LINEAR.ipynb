{
 "cells": [
  {
   "cell_type": "code",
   "execution_count": 1,
   "id": "42639b55",
   "metadata": {},
   "outputs": [],
   "source": [
    "import numpy as np\n",
    "import matplotlib.pyplot as plt\n",
    "from tqdm import tqdm\n",
    "import framework\n",
    "import utils"
   ]
  },
  {
   "cell_type": "code",
   "execution_count": 2,
   "id": "fbe85a09",
   "metadata": {},
   "outputs": [],
   "source": [
    "DEBUG = False"
   ]
  },
  {
   "cell_type": "code",
   "execution_count": 3,
   "id": "f93a787c",
   "metadata": {},
   "outputs": [],
   "source": [
    "GAMMA = 0.5  # discounted factor\n",
    "TRAINING_EP = 0.5  # epsilon-greedy parameter for training\n",
    "TESTING_EP = 0.05  # epsilon-greedy parameter for testing\n",
    "NUM_RUNS = 10\n",
    "NUM_EPOCHS = 600\n",
    "NUM_EPIS_TRAIN = 25  # number of episodes for training at each epoch\n",
    "NUM_EPIS_TEST = 50  # number of episodes for testing\n",
    "ALPHA = 0.001  # learning rate for training\n",
    "\n",
    "ACTIONS = framework.get_actions()\n",
    "OBJECTS = framework.get_objects()\n",
    "NUM_ACTIONS = len(ACTIONS)\n",
    "NUM_OBJECTS = len(OBJECTS)"
   ]
  },
  {
   "cell_type": "code",
   "execution_count": 4,
   "id": "59571768",
   "metadata": {},
   "outputs": [],
   "source": [
    "def tuple2index(action_index, object_index):\n",
    "    \"\"\"Converts a tuple (a,b) to an index c\"\"\"\n",
    "    return action_index * NUM_OBJECTS + object_index\n",
    "\n",
    "\n",
    "def index2tuple(index):\n",
    "    \"\"\"Converts an index c to a tuple (a,b)\"\"\"\n",
    "    return index // NUM_OBJECTS, index % NUM_OBJECTS\n"
   ]
  },
  {
   "cell_type": "code",
   "execution_count": 5,
   "id": "06d1723c",
   "metadata": {},
   "outputs": [],
   "source": [
    "def epsilon_greedy(state_vector, theta, epsilon):\n",
    "    \"\"\"Returns an action selected by an epsilon-greedy exploration policy\n",
    "\n",
    "    Args:\n",
    "        state_vector (np.ndarray): extracted vector representation\n",
    "        theta (np.ndarray): current weight matrix\n",
    "        epsilon (float): the probability of choosing a random command\n",
    "\n",
    "    Returns:\n",
    "        (int, int): the indices describing the action/object to take\n",
    "    \"\"\"\n",
    "    if np.random.binomial(1, epsilon):\n",
    "        # Randomly choose action and object\n",
    "        action_index, object_index = np.random.randint(NUM_ACTIONS, size=1), \\\n",
    "                                    np.random.randint(NUM_OBJECTS, size=1)\n",
    "    else:\n",
    "        # Choose the best action and object\n",
    "        action_index, object_index = np.unravel_index(np.argmax(theta @ state_vector),\n",
    "                                                      (NUM_ACTIONS, NUM_OBJECTS))\n",
    "        \n",
    "    return (int(action_index), int(object_index))\n",
    "\n",
    "    # TODO Your code here\n",
    "    #action_index, object_index = None, None\n",
    "    #return (action_index, object_index)\n",
    "# pragma: coderesponse end\n"
   ]
  },
  {
   "cell_type": "code",
   "execution_count": 6,
   "id": "20efbdaf",
   "metadata": {},
   "outputs": [],
   "source": [
    "def linear_q_learning(theta, current_state_vector, action_index, object_index,\n",
    "                      reward, next_state_vector, terminal):\n",
    "    \"\"\"Update theta for a given transition\n",
    "\n",
    "    Args:\n",
    "        theta (np.ndarray): current weight matrix\n",
    "        current_state_vector (np.ndarray): vector representation of current state\n",
    "        action_index (int): index of the current action\n",
    "        object_index (int): index of the current object\n",
    "        reward (float): the immediate reward the agent recieves from playing current command\n",
    "        next_state_vector (np.ndarray): vector representation of next state\n",
    "        terminal (bool): True if this epsiode is over\n",
    "\n",
    "    Returns:\n",
    "        None\n",
    "    \"\"\"\n",
    "    if terminal:\n",
    "        maxQ = 0.0\n",
    "    else:\n",
    "        maxQ = np.max(theta @ next_state_vector)\n",
    "    \n",
    "    # Q(s, c, theta) for current command, c\n",
    "    Q_val = (theta @ current_state_vector)[tuple2index(action_index, object_index)]\n",
    "    \n",
    "    # y = R(s, c) + gamma*maxQ\n",
    "    y = reward + GAMMA*maxQ\n",
    "    \n",
    "    theta[tuple2index(action_index, object_index)] = \\\n",
    "        theta[tuple2index(action_index, object_index)] + \\\n",
    "        ALPHA*(y - Q_val)*current_state_vector\n",
    "    \n",
    "# pragma: coderesponse end"
   ]
  },
  {
   "cell_type": "code",
   "execution_count": 7,
   "id": "f7cf04b4",
   "metadata": {},
   "outputs": [],
   "source": [
    "def run_episode(for_training):\n",
    "    \"\"\" Runs one episode\n",
    "    If for training, update Q function\n",
    "    If for testing, computes and return cumulative discounted reward\n",
    "\n",
    "    Args:\n",
    "        for_training (bool): True if for training\n",
    "\n",
    "    Returns:\n",
    "        None\n",
    "    \"\"\"\n",
    "    epsilon = TRAINING_EP if for_training else TESTING_EP\n",
    "    \n",
    "    epi_reward = 0.0 # initialize for each episode\n",
    "\n",
    "    (current_room_desc, current_quest_desc, terminal) = framework.newGame()\n",
    "\n",
    "    while not terminal:\n",
    "        # Choose next action and execute\n",
    "        current_state = current_room_desc + current_quest_desc\n",
    "        current_state_vector = utils.extract_bow_feature_vector(\n",
    "            current_state, dictionary)\n",
    "\n",
    "        next_action_index, next_object_index = epsilon_greedy(current_state_vector, \n",
    "                                                              theta, \n",
    "                                                              epsilon) # Get next action, object\n",
    "        \n",
    "        next_room_desc, next_quest_desc, reward, terminal = framework.step_game(\n",
    "                                                            current_room_desc,\n",
    "                                                            current_quest_desc,\n",
    "                                                            next_action_index,\n",
    "                                                            next_object_index) # Take a step\n",
    "        \n",
    "        next_state = next_room_desc + next_quest_desc   # Build next state vector\n",
    "        next_state_vector = utils.extract_bow_feature_vector(next_state, dictionary)      \n",
    "\n",
    "        if for_training:\n",
    "            # update Q-function.\n",
    "            linear_q_learning(theta, current_state_vector, next_action_index, \n",
    "                          next_object_index, reward, next_state_vector, terminal) # Update theta\n",
    "\n",
    "        if not for_training:\n",
    "            # update reward\n",
    "            epi_reward += (GAMMA**(framework.STEP_COUNT - 1))*reward\n",
    "\n",
    "        # prepare next step\n",
    "        current_room_desc, current_quest_desc = next_room_desc, next_quest_desc\n",
    "\n",
    "    if not for_training:\n",
    "        return epi_reward\n"
   ]
  },
  {
   "cell_type": "code",
   "execution_count": 8,
   "id": "c2e14de8",
   "metadata": {},
   "outputs": [],
   "source": [
    "def run_epoch():\n",
    "    \"\"\"Runs one epoch and returns reward averaged over test episodes\"\"\"\n",
    "    rewards = []\n",
    "\n",
    "    for _ in range(NUM_EPIS_TRAIN):\n",
    "        run_episode(for_training=True)\n",
    "\n",
    "    for _ in range(NUM_EPIS_TEST):\n",
    "        rewards.append(run_episode(for_training=False))\n",
    "\n",
    "    return np.mean(np.array(rewards))"
   ]
  },
  {
   "cell_type": "code",
   "execution_count": 9,
   "id": "10552fba",
   "metadata": {},
   "outputs": [],
   "source": [
    "def run():\n",
    "    \"\"\"Returns array of test reward per epoch for one run\"\"\"\n",
    "    global theta\n",
    "    theta = np.zeros([action_dim, state_dim])\n",
    "\n",
    "    single_run_epoch_rewards_test = []\n",
    "    pbar = tqdm(range(NUM_EPOCHS), ncols=80)\n",
    "    for _ in pbar:\n",
    "        single_run_epoch_rewards_test.append(run_epoch())\n",
    "        pbar.set_description(\n",
    "            \"Avg reward: {:0.6f} | Ewma reward: {:0.6f}\".format(\n",
    "                np.mean(single_run_epoch_rewards_test),\n",
    "                utils.ewma(single_run_epoch_rewards_test)))\n",
    "    return single_run_epoch_rewards_test\n"
   ]
  },
  {
   "cell_type": "code",
   "execution_count": 10,
   "id": "95385c95",
   "metadata": {},
   "outputs": [
    {
     "name": "stderr",
     "output_type": "stream",
     "text": [
      "Avg reward: 0.246080 | Ewma reward: 0.289486: 100%|█| 600/600 [00:44<00:00, 13.3\n",
      "Avg reward: 0.253024 | Ewma reward: 0.311680: 100%|█| 600/600 [00:43<00:00, 13.7\n",
      "Avg reward: 0.248206 | Ewma reward: 0.320518: 100%|█| 600/600 [00:45<00:00, 13.2\n",
      "Avg reward: 0.267823 | Ewma reward: 0.368403: 100%|█| 600/600 [00:41<00:00, 14.3\n",
      "Avg reward: 0.260110 | Ewma reward: 0.331046: 100%|█| 600/600 [00:45<00:00, 13.3\n",
      "Avg reward: 0.253566 | Ewma reward: 0.348123: 100%|█| 600/600 [00:42<00:00, 13.9\n",
      "Avg reward: 0.250707 | Ewma reward: 0.344688: 100%|█| 600/600 [00:41<00:00, 14.4\n",
      "Avg reward: 0.257303 | Ewma reward: 0.339318: 100%|█| 600/600 [00:39<00:00, 15.0\n",
      "Avg reward: 0.261965 | Ewma reward: 0.348180: 100%|█| 600/600 [00:40<00:00, 14.6\n",
      "Avg reward: 0.257743 | Ewma reward: 0.359938: 100%|█| 600/600 [00:40<00:00, 14.9\n"
     ]
    },
    {
     "data": {
      "image/png": "[encoded data removed]",
      "text/plain": [
       "<Figure size 432x288 with 1 Axes>"
      ]
     },
     "metadata": {
      "needs_background": "light"
     },
     "output_type": "display_data"
    }
   ],
   "source": [
    "if __name__ == '__main__':\n",
    "    state_texts = utils.load_data('game.tsv')\n",
    "    dictionary = utils.bag_of_words(state_texts)\n",
    "    state_dim = len(dictionary)\n",
    "    action_dim = NUM_ACTIONS * NUM_OBJECTS\n",
    "\n",
    "    # set up the game\n",
    "    framework.load_game_data()\n",
    "\n",
    "    epoch_rewards_test = []  # shape NUM_RUNS * NUM_EPOCHS\n",
    "\n",
    "    for _ in range(NUM_RUNS):\n",
    "        epoch_rewards_test.append(run())\n",
    "\n",
    "    epoch_rewards_test = np.array(epoch_rewards_test)\n",
    "\n",
    "    x = np.arange(NUM_EPOCHS)\n",
    "    fig, axis = plt.subplots()\n",
    "    axis.plot(x, np.mean(epoch_rewards_test,\n",
    "                         axis=0))  # plot reward per epoch averaged per run\n",
    "    axis.set_xlabel('Epochs')\n",
    "    axis.set_ylabel('reward')\n",
    "    axis.set_title(('Linear: nRuns=%d, Epilon=%.2f, Epi=%d, alpha=%.4f' %\n",
    "                    (NUM_RUNS, TRAINING_EP, NUM_EPIS_TRAIN, ALPHA)))"
   ]
  },
  {
   "cell_type": "code",
   "execution_count": null,
   "id": "e070e892",
   "metadata": {},
   "outputs": [],
   "source": []
  }
 ],
 "metadata": {
  "kernelspec": {
   "display_name": "Python 3 (ipykernel)",
   "language": "python",
   "name": "python3"
  },
  "language_info": {
   "codemirror_mode": {
    "name": "ipython",
    "version": 3
   },
   "file_extension": ".py",
   "mimetype": "text/x-python",
   "name": "python",
   "nbconvert_exporter": "python",
   "pygments_lexer": "ipython3",
   "version": "3.8.12"
  }
 },
 "nbformat": 4,
 "nbformat_minor": 5
}
