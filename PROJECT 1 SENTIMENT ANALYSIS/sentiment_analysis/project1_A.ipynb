{
 "cells": [
  {
   "cell_type": "code",
   "execution_count": 1,
   "id": "01df56f6",
   "metadata": {},
   "outputs": [],
   "source": [
    "import random\n",
    "import project1 as p1\n",
    "import utils\n",
    "import numpy as np\n",
    "import matplotlib.pyplot as plt\n",
    "from string import punctuation, digits"
   ]
  },
  {
   "cell_type": "code",
   "execution_count": 2,
   "id": "e261a940",
   "metadata": {},
   "outputs": [],
   "source": [
    "train_data = utils.load_data('reviews_train.tsv')\n",
    "val_data = utils.load_data('reviews_val.tsv')\n",
    "test_data = utils.load_data('reviews_test.tsv')\n",
    "\n",
    "train_texts, train_labels = zip(*((sample['text'], sample['sentiment']) for sample in train_data))\n",
    "val_texts, val_labels = zip(*((sample['text'], sample['sentiment']) for sample in val_data))\n",
    "test_texts, test_labels = zip(*((sample['text'], sample['sentiment']) for sample in test_data))\n",
    "\n",
    "dictionary = p1.bag_of_words(train_texts)\n",
    "\n",
    "train_bow_features = p1.extract_bow_feature_vectors(train_texts, dictionary)\n",
    "val_bow_features = p1.extract_bow_feature_vectors(val_texts, dictionary)\n",
    "test_bow_features = p1.extract_bow_feature_vectors(test_texts, dictionary)"
   ]
  },
  {
   "cell_type": "code",
   "execution_count": 3,
   "id": "879878f8",
   "metadata": {},
   "outputs": [],
   "source": [
    "def get_order(n_samples):\n",
    "    try:\n",
    "        with open(str(n_samples) + '.txt') as fp:\n",
    "            line = fp.readline()\n",
    "            return list(map(int, line.split(',')))\n",
    "    except FileNotFoundError:\n",
    "        random.seed(1)\n",
    "        indices = list(range(n_samples))\n",
    "        random.shuffle(indices)\n",
    "        return indices\n"
   ]
  },
  {
   "cell_type": "code",
   "execution_count": 4,
   "id": "16eb35b5",
   "metadata": {},
   "outputs": [],
   "source": [
    "def hinge_loss_single(feature_vector, label, theta, theta_0):\n",
    "    y = theta @ feature_vector + theta_0\n",
    "    return max(0, 1 - y * label)"
   ]
  },
  {
   "cell_type": "code",
   "execution_count": 5,
   "id": "2d7619a6",
   "metadata": {},
   "outputs": [],
   "source": [
    "def hinge_loss_full(feature_matrix, labels, theta, theta_0):\n",
    "    \n",
    "    ys = feature_matrix @ theta + theta_0\n",
    "    loss = np.maximum(1 - ys * labels, 0.00)\n",
    "    return np.mean(loss)\n"
   ]
  },
  {
   "cell_type": "code",
   "execution_count": 6,
   "id": "b8a63215",
   "metadata": {},
   "outputs": [],
   "source": [
    "def perceptron_single_step_update(\n",
    "        feature_vector,\n",
    "        label,\n",
    "        current_theta,\n",
    "        current_theta_0):\n",
    "   \n",
    "    if label * (np.dot(current_theta, feature_vector) + current_theta_0) <= 1e-7:\n",
    "        return current_theta + label * feature_vector, current_theta_0 + label\n",
    "    return current_theta, current_theta_0\n"
   ]
  },
  {
   "cell_type": "code",
   "execution_count": 7,
   "id": "6750a5b4",
   "metadata": {},
   "outputs": [],
   "source": [
    "def perceptron(feature_matrix, labels, T):\n",
    "\n",
    "    nsamples, nfeatures = feature_matrix.shape\n",
    "    theta = np.zeros(nfeatures)\n",
    "    theta_0 = 0.0\n",
    "    for t in range(T):\n",
    "        for i in get_order(nsamples):\n",
    "            theta, theta_0 = perceptron_single_step_update(\n",
    "                feature_matrix[i], labels[i], theta, theta_0)\n",
    "    return theta, theta_0\n"
   ]
  },
  {
   "cell_type": "code",
   "execution_count": 8,
   "id": "8333cebc",
   "metadata": {},
   "outputs": [],
   "source": [
    "def average_perceptron(feature_matrix, labels, T):\n",
    "  \n",
    "    nsamples, nfeatures = feature_matrix.shape\n",
    "    theta = np.zeros(nfeatures)\n",
    "    theta_sum = np.zeros(nfeatures)\n",
    "    theta_0 = 0.0\n",
    "    theta_0_sum = 0.0\n",
    "\n",
    "    for t in range(T):\n",
    "        for i in get_order(nsamples):\n",
    "            theta, theta_0 = perceptron_single_step_update(feature_matrix[i], labels[i], theta, theta_0)\n",
    "            theta_sum += theta\n",
    "            theta_0_sum += theta_0\n",
    "    return theta_sum/(nsamples*T), theta_0_sum/(nsamples*T)"
   ]
  },
  {
   "cell_type": "code",
   "execution_count": 9,
   "id": "914076f7",
   "metadata": {},
   "outputs": [],
   "source": [
    "def pegasos_single_step_update(\n",
    "        feature_vector,\n",
    "        label,\n",
    "        L,\n",
    "        eta,\n",
    "        current_theta,\n",
    "        current_theta_0):\n",
    "   \n",
    "    rule = 1 - eta * L\n",
    "    if label * (np.dot(feature_vector, current_theta) + current_theta_0) <= 1:\n",
    "        return (rule * current_theta) + (eta * label * feature_vector), current_theta_0 + (eta * label)\n",
    "    return rule * current_theta, current_theta_0\n"
   ]
  },
  {
   "cell_type": "code",
   "execution_count": 10,
   "id": "19cc885c",
   "metadata": {},
   "outputs": [],
   "source": [
    "def pegasos(feature_matrix, labels, T, L):\n",
    "  \n",
    "    nsamples, nfeatures = feature_matrix.shape\n",
    "    theta = np.zeros(nfeatures)\n",
    "    theta_0 = 0\n",
    "    count = 0\n",
    "\n",
    "    for t in range(T):\n",
    "        for i in get_order(nsamples):\n",
    "            count += 1\n",
    "            eta = 1.0/np.sqrt(count)\n",
    "            theta,theta_0 = pegasos_single_step_update(feature_matrix[i], labels[i], L, eta, theta, theta_0)\n",
    "    return theta, theta_0\n"
   ]
  },
  {
   "cell_type": "code",
   "execution_count": 11,
   "id": "6d13b0b6",
   "metadata": {},
   "outputs": [],
   "source": [
    "def classify(feature_matrix, theta, theta_0):\n",
    "  \n",
    "    return (feature_matrix @ theta + theta_0 > 1e-7) * 2.0 - 1\n"
   ]
  },
  {
   "cell_type": "code",
   "execution_count": 12,
   "id": "b9df01c7",
   "metadata": {},
   "outputs": [],
   "source": [
    "def classifier_accuracy(\n",
    "        classifier,\n",
    "        train_feature_matrix,\n",
    "        val_feature_matrix,\n",
    "        train_labels,\n",
    "        val_labels,\n",
    "        **kwargs):\n",
    "\n",
    "    theta, theta_0 = classifier(train_feature_matrix, train_labels, **kwargs)\n",
    "    train_predictions = classify(train_feature_matrix, theta, theta_0)\n",
    "    val_predictions = classify(val_feature_matrix, theta, theta_0)\n",
    "    train_accuracy = accuracy(train_predictions, train_labels)\n",
    "    validation_accuracy = accuracy(val_predictions, val_labels)\n",
    "    return (train_accuracy, validation_accuracy)\n"
   ]
  },
  {
   "cell_type": "code",
   "execution_count": 13,
   "id": "2058e3ee",
   "metadata": {},
   "outputs": [],
   "source": [
    "def extract_words(input_string):\n",
    "   \n",
    "    for c in punctuation + digits:\n",
    "        input_string = input_string.replace(c, ' ' + c + ' ')\n",
    "\n",
    "    return input_string.lower().split()\n"
   ]
  },
  {
   "cell_type": "code",
   "execution_count": 14,
   "id": "f88fa5fd",
   "metadata": {},
   "outputs": [],
   "source": [
    "def bag_of_words(texts):\n",
    "    dictionary = {} # maps word to unique index\n",
    "    for text in texts:\n",
    "        word_list = extract_words(text)\n",
    "        for word in word_list:\n",
    "            if word not in dictionary:\n",
    "                dictionary[word] = len(dictionary)\n",
    "    return dictionary"
   ]
  },
  {
   "cell_type": "code",
   "execution_count": 15,
   "id": "893b50e3",
   "metadata": {},
   "outputs": [],
   "source": [
    "def extract_bow_feature_vectors(reviews, dictionary):\n",
    "\n",
    "    num_reviews = len(reviews)\n",
    "    feature_matrix = np.zeros([num_reviews, len(dictionary)])\n",
    "\n",
    "    for i, text in enumerate(reviews):\n",
    "        word_list = extract_words(text)\n",
    "        for word in word_list:\n",
    "            if word in dictionary:\n",
    "                feature_matrix[i, dictionary[word]] = 1\n",
    "    return feature_matrix"
   ]
  },
  {
   "cell_type": "code",
   "execution_count": 16,
   "id": "90507029",
   "metadata": {},
   "outputs": [],
   "source": [
    "def accuracy(preds, targets):\n",
    "\n",
    "    return (preds == targets).mean()\n"
   ]
  }
 ],
 "metadata": {
  "kernelspec": {
   "display_name": "Python 3 (ipykernel)",
   "language": "python",
   "name": "python3"
  },
  "language_info": {
   "codemirror_mode": {
    "name": "ipython",
    "version": 3
   },
   "file_extension": ".py",
   "mimetype": "text/x-python",
   "name": "python",
   "nbconvert_exporter": "python",
   "pygments_lexer": "ipython3",
   "version": "3.8.12"
  }
 },
 "nbformat": 4,
 "nbformat_minor": 5
}
