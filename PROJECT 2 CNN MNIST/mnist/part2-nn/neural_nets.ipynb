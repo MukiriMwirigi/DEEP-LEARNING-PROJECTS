{
 "cells": [
  {
   "cell_type": "code",
   "execution_count": 1,
   "id": "8989007e",
   "metadata": {},
   "outputs": [],
   "source": [
    "import numpy as np\n",
    "import math"
   ]
  },
  {
   "cell_type": "markdown",
   "id": "4b13c951",
   "metadata": {},
   "source": [
    "#### RELU"
   ]
  },
  {
   "cell_type": "code",
   "execution_count": 2,
   "id": "20fed0ec",
   "metadata": {},
   "outputs": [],
   "source": [
    "def  rectified_linear_unit(x):\n",
    "    return max(0, x)"
   ]
  },
  {
   "cell_type": "code",
   "execution_count": 3,
   "id": "7a664bee",
   "metadata": {},
   "outputs": [],
   "source": [
    "def rectified_linear_unit_derivative(x):\n",
    "    if x <= 0:\n",
    "        return 0\n",
    "    else:\n",
    "        return 1"
   ]
  },
  {
   "cell_type": "code",
   "execution_count": 4,
   "id": "6e8800fd",
   "metadata": {},
   "outputs": [],
   "source": [
    "def output_layer_activation(x):\n",
    "    return x"
   ]
  },
  {
   "cell_type": "code",
   "execution_count": 5,
   "id": "50c2d114",
   "metadata": {},
   "outputs": [],
   "source": [
    "def output_layer_activation_derivative(x):\n",
    "    return 1"
   ]
  },
  {
   "cell_type": "markdown",
   "id": "bffd8d2b",
   "metadata": {},
   "source": [
    "#### TRAINING THE NETWORK"
   ]
  },
  {
   "cell_type": "code",
   "execution_count": 6,
   "id": "9f6d960d",
   "metadata": {},
   "outputs": [
    {
     "name": "stdout",
     "output_type": "stream",
     "text": [
      "Point, (1, 1) Prediction, 7.038453196038151\n",
      "Test Passed\n",
      "Point, (2, 2) Prediction, 14.042814826755537\n",
      "Test Passed\n",
      "Point, (3, 3) Prediction, 21.047176457472922\n",
      "Test Passed\n",
      "Point, (5, 5) Prediction, 35.055899718907696\n",
      "Test Passed\n",
      "Point, (10, 10) Prediction, 70.07770787249461\n",
      "Test Passed\n"
     ]
    }
   ],
   "source": [
    "class NeuralNetwork():\n",
    "    def __init__(self):\n",
    "\n",
    "        # DO NOT CHANGE PARAMETERS (Initialized to floats instead of ints)\n",
    "        self.input_to_hidden_weights = np.matrix('1. 1.; 1. 1.; 1. 1.')\n",
    "        self.hidden_to_output_weights = np.matrix('1. 1. 1.')\n",
    "        self.biases = np.matrix('0.; 0.; 0.')\n",
    "        self.learning_rate = .001\n",
    "        self.epochs_to_train = 10\n",
    "        self.training_points = [((2,1), 10), ((3,3), 21), ((4,5), 32), ((6, 6), 42)]\n",
    "        self.testing_points = [(1,1), (2,2), (3,3), (5,5), (10,10)]\n",
    "\n",
    "    def train(self, x1, x2, y):\n",
    "        vect = np.vectorize(rectified_linear_unit)\n",
    "        vect_derivative = np.vectorize(rectified_linear_unit_derivative)\n",
    "        \n",
    "        ### Forward propagation ###\n",
    "        input_values = np.matrix([[x1],[x2]]) # 2 by 1\n",
    "\n",
    "        # Calculate the input and activation of the hidden layer\n",
    "        hidden_layer_weighted_input = self.input_to_hidden_weights*input_values + self.biases# TODO (3 by 1 matrix)\n",
    "        hidden_layer_activation = vect(hidden_layer_weighted_input)# TODO (3 by 1 matrix)\n",
    "\n",
    "        output = self.hidden_to_output_weights * hidden_layer_activation # TODO\n",
    "        activated_output = output_layer_activation(output)# TODO\n",
    "\n",
    "        ### Backpropagation ###\n",
    "\n",
    "        # Compute gradients\n",
    "        output_layer_error = (activated_output - y)* output_layer_activation_derivative(output) # TODO\n",
    "        hidden_layer_error = np.multiply((np.transpose(self.hidden_to_output_weights) * output_layer_error), vect_derivative(hidden_layer_weighted_input))# TODO (3 by 1 matrix)\n",
    "        \n",
    "        bias_gradients = hidden_layer_error  # TODO\n",
    "        hidden_to_output_weight_gradients = np.transpose(hidden_layer_activation * output_layer_error)# TODO\n",
    "        input_to_hidden_weight_gradients = np.transpose(input_values * np.transpose(hidden_layer_error)) # TODO\n",
    "\n",
    "        # Use gradients to adjust weights and biases using gradient descent\n",
    "        self.biases = self.biases - self.learning_rate * bias_gradients# TODO\n",
    "        self.input_to_hidden_weights = self.input_to_hidden_weights - self.learning_rate * input_to_hidden_weight_gradients # TODO\n",
    "        self.hidden_to_output_weights = self.hidden_to_output_weights - self.learning_rate * hidden_to_output_weight_gradients# TODO\n",
    "    \n",
    "    \n",
    "    def predict(self, x1, x2):\n",
    "        vect = np.vectorize(rectified_linear_unit)\n",
    "        \n",
    "        input_values = np.matrix([[x1],[x2]])\n",
    "        \n",
    "        # Compute output for a single input(should be same as the forward propagation in training)\n",
    "        hidden_layer_weighted_input = self.input_to_hidden_weights*input_values + self.biases# TODO (3 by 1 matrix)\n",
    "        hidden_layer_activation = vect(hidden_layer_weighted_input) # TODO\n",
    "        output = self.hidden_to_output_weights * hidden_layer_activation # TODO\n",
    "        activated_output = output_layer_activation(output)# TODO\n",
    "        \n",
    "        \n",
    "        return activated_output.item()\n",
    "\n",
    "    # Run this to train your neural network once you complete the train method\n",
    "    def train_neural_network(self):\n",
    "        for epoch in range(self.epochs_to_train):\n",
    "            for x,y in self.training_points:\n",
    "                self.train(x[0], x[1], y)\n",
    "            \n",
    "    # Run this to test your neural network implementation for correctness after it is trained\n",
    "    def test_neural_network(self):\n",
    "        for point in self.testing_points:\n",
    "            print(\"Point,\", point, \"Prediction,\", self.predict(point[0], point[1]))\n",
    "            if abs(self.predict(point[0], point[1]) - 7*point[0]) < 0.1:\n",
    "                print(\"Test Passed\")\n",
    "            else:\n",
    "                print(\"Point \", point[0], point[1], \" failed to be predicted correctly.\")\n",
    "        return\n",
    "\n",
    "x = NeuralNetwork()\n",
    "\n",
    "x.train_neural_network()\n",
    "\n",
    "# UNCOMMENT THE LINE BELOW TO TEST YOUR NEURAL NETWORK\n",
    "x.test_neural_network()\n",
    "\n",
    "   \n",
    "        \n",
    "#x = NeuralNetwork()\n",
    "\n",
    "#x.train(1, 2, 1)"
   ]
  }
 ],
 "metadata": {
  "kernelspec": {
   "display_name": "Python 3 (ipykernel)",
   "language": "python",
   "name": "python3"
  },
  "language_info": {
   "codemirror_mode": {
    "name": "ipython",
    "version": 3
   },
   "file_extension": ".py",
   "mimetype": "text/x-python",
   "name": "python",
   "nbconvert_exporter": "python",
   "pygments_lexer": "ipython3",
   "version": "3.8.12"
  }
 },
 "nbformat": 4,
 "nbformat_minor": 5
}
